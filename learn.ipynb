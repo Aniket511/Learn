{
 "cells": [
  {
   "cell_type": "code",
   "execution_count": null,
   "metadata": {},
   "outputs": [],
   "source": [
    "print(\"Hello World!\")"
   ]
  },
  {
   "cell_type": "code",
   "execution_count": 2,
   "metadata": {},
   "outputs": [],
   "source": [
    "from random import shuffle\n",
    "\n",
    "my_list = [\"O\",\" \",\" \"]\n",
    "\n",
    "def shuffle_list():\n",
    "    shuffle(my_list)\n",
    "    return my_list\n",
    "\n",
    "new_list = shuffle_list()\n",
    "\n",
    "def take_guess():\n",
    "    guess=\"\"\n",
    "    while guess not in [1,2,3]:\n",
    "        guess = int(input(\"Enter your guess between 1 to 3:\"))\n",
    "    return guess\n",
    "\n",
    "guess=take_guess()\n",
    "\n",
    "def check_guess(new_list,guess):\n",
    "    for i in new_list:\n",
    "        if new_list[guess-1] == \"O\":\n",
    "            print(\"Congratulations\")\n",
    "        else:\n",
    "            print(\"Sorry\")\n",
    "            print(new_list)"
   ]
  },
  {
   "cell_type": "code",
   "execution_count": null,
   "metadata": {},
   "outputs": [],
   "source": []
  }
 ],
 "metadata": {
  "kernelspec": {
   "display_name": "Python 3",
   "language": "python",
   "name": "python3"
  },
  "language_info": {
   "codemirror_mode": {
    "name": "ipython",
    "version": 3
   },
   "file_extension": ".py",
   "mimetype": "text/x-python",
   "name": "python",
   "nbconvert_exporter": "python",
   "pygments_lexer": "ipython3",
   "version": "3.12.0"
  }
 },
 "nbformat": 4,
 "nbformat_minor": 2
}
